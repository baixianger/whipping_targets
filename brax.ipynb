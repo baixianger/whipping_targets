{
 "cells": [
  {
   "cell_type": "code",
   "execution_count": 1,
   "metadata": {},
   "outputs": [],
   "source": [
    "import jax\n",
    "from jax import numpy as jp\n",
    "from matplotlib.lines import Line2D\n",
    "from matplotlib.patches import Circle\n",
    "import matplotlib.pyplot as plt"
   ]
  },
  {
   "cell_type": "code",
   "execution_count": 18,
   "metadata": {},
   "outputs": [
    {
     "name": "stdout",
     "output_type": "stream",
     "text": [
      "Brax 目前只支持Euler intergrator\n",
      "Brax 目前只支持球形碰撞体, 令mj.geom_contype[i]和mj.geom_conaffinity[i]=0\n"
     ]
    }
   ],
   "source": [
    "import mujoco\n",
    "import brax\n",
    "from brax.io import mjcf\n",
    "\n",
    "# Load the cartpole environment from file\n",
    "path = f'/work3/s213120/whipping_targets/env/xml/scene_torque.xml'\n",
    "mj = mujoco.MjModel.from_xml_path(path)\n",
    "# change the intergrator from implicit to euler\n",
    "if mj.opt.integrator != 0:\n",
    "    print(\"Brax 目前只支持Euler intergrator\")\n",
    "    mj.opt.integrator = 0\n",
    "\n",
    "# Barx 目前只支持球形碰撞体, 令mj.geom_contype[i]和mj.geom_conaffinity[i]=0\n",
    "print(\"Brax 目前只支持球形碰撞体, 令mj.geom_contype[i]和mj.geom_conaffinity[i]=0\")\n",
    "for i, typ in enumerate(mj.geom_type):\n",
    "    if typ == 5: # cylinder\n",
    "        mj.geom_contype[i] = 0\n",
    "        mj.geom_conaffinity[i] = 0\n",
    "\n",
    "model = mjcf.load_model(mj)"
   ]
  }
 ],
 "metadata": {
  "kernelspec": {
   "display_name": "Python 3 (ipykernel)",
   "language": "python",
   "name": "python3"
  },
  "orig_nbformat": 4
 },
 "nbformat": 4,
 "nbformat_minor": 2
}
